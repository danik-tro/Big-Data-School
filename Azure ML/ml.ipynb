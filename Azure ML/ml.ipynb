{
  "cells": [
    {
      "cell_type": "markdown",
      "source": [
        "# Homework\n",
        "* Task\n",
        "    * Regression\n",
        "        * predict wine rating\n",
        "* Train the model\n",
        "    * Designer\n",
        "* Register the model\n",
        "* Publish the model as a Web API\n",
        "* The code that will call the Web API and make predictions on the test data.\n",
        "\n",
        "## Describe dataset\n",
        "https://www.kaggle.com/uciml/red-wine-quality-cortez-et-al-2009 - dataset from kaggle.com\n",
        "### Content\n",
        "* Input variables (based on physicochemical tests):\n",
        "    * 1 - fixed acidity\n",
        "    * 2 - volatile acidity\n",
        "    *   3 - citric acid\n",
        "    *   4 - residual sugar\n",
        "    *   5 - chlorides\n",
        "    *   6 - free sulfur dioxide\n",
        "    *   7 - total sulfur dioxide\n",
        "    *   8 - density\n",
        "    *   9 - pH\n",
        "    *   10 - sulphates\n",
        "    *   11 - alcohol\n",
        "* Output variable (based on sensory data):\n",
        "    * 12 - quality (score between 0 and 10)\n"
      ],
      "metadata": {
        "nteract": {
          "transient": {
            "deleting": false
          }
        }
      }
    },
    {
      "cell_type": "markdown",
      "source": [
        "## Upload and register dataset\n",
        "![Error](Photos/create_dataset.png)\n",
        "## Explore dataset\n",
        "![Error](Photos/explore_dataset.png)"
      ],
      "metadata": {
        "nteract": {
          "transient": {
            "deleting": false
          }
        }
      }
    },
    {
      "cell_type": "markdown",
      "source": [
        "## Create pipeline\n",
        "1.  We choose Easy-to-use prebuilt modules\n",
        "2.  Drag our dataset, block for normalize data. In settings choose max-min normalization.\n",
        "3. Also, added block **Split Data** (75 train/25 test).\n",
        "4. I’ve done some experiments with different machine learning models. Best model which I've chosen - **Boosted Decision Tree Regression**.\n",
        "5. **Tune Model Hyperparameters** were used to tune the hyperparameters. And at this chapter was trained our model.\n",
        "6. Added **Score Model** for scoring and **Evaluate Model** for evalute.\n",
        "![Error](Photos/create_pipeline.png)\n",
        "![Error](Photos/tune_param.png)\n",
        "![Error](Photos/scored_label.png)\n",
        "![Error](Photos/evaluate_para.png)\n"
      ],
      "metadata": {
        "nteract": {
          "transient": {
            "deleting": false
          }
        }
      }
    },
    {
      "cell_type": "markdown",
      "source": [
        "## No-Code deploy\n",
        "1. By clicking on publish, the model was deployed with standard settings with the choice of compute.\n",
        "![Error](Photos/delpoy.png)\n",
        "2. Service had deployed successful.\n",
        "![Error](Photos/settings.png)"
      ],
      "metadata": {
        "nteract": {
          "transient": {
            "deleting": false
          }
        }
      }
    },
    {
      "cell_type": "markdown",
      "source": [
        "## Code for interact with REST-service"
      ],
      "metadata": {
        "nteract": {
          "transient": {
            "deleting": false
          }
        }
      }
    },
    {
      "cell_type": "markdown",
      "source": [
        "```\n",
        "import urllib.request\n",
        "import json\n",
        "import os\n",
        "import ssl\n",
        "\n",
        "def allowSelfSignedHttps(allowed):\n",
        "    # bypass the server certificate verification on client side\n",
        "    if allowed and not os.environ.get('PYTHONHTTPSVERIFY', '') and getattr(ssl, '_create_unverified_context', None):\n",
        "        ssl._create_default_https_context = ssl._create_unverified_context\n",
        "\n",
        "allowSelfSignedHttps(True) # this line is needed if you use self-signed certificate in your scoring service.\n",
        "\n",
        "data = {\n",
        "    \"Inputs\": {\n",
        "          \"WebServiceInput0\":\n",
        "          [\n",
        "              {\n",
        "                    'fixed acidity': \"7.4\",\n",
        "                    'volatile acidity': \"0.7\",\n",
        "                    'citric acid': \"0\",\n",
        "                    'residual sugar': \"1.9\",\n",
        "                    'chlorides': \"0.076\",\n",
        "                    'free sulfur dioxide': \"11\",\n",
        "                    'total sulfur dioxide': \"34\",\n",
        "                    'density': \"0.9978\",\n",
        "                    'pH': \"3.51\",\n",
        "                    'sulphates': \"0.56\",\n",
        "                    'alcohol': \"9.4\",\n",
        "                    'quality': \"5\",\n",
        "              },\n",
        "          ],\n",
        "    },\n",
        "    \"GlobalParameters\":  {\n",
        "    }\n",
        "}\n",
        "\n",
        "body = str.encode(json.dumps(data))\n",
        "\n",
        "url = 'http://20.71.42.4:80/api/v1/service/mlcluster/score'\n",
        "api_key = 'IUExmGMI0XHIj2w6qUimfXbcdPsAj31v'\n",
        "headers = {'Content-Type':'application/json', 'Authorization':('Bearer '+ api_key)}\n",
        "\n",
        "req = urllib.request.Request(url, body, headers)\n",
        "\n",
        "try:\n",
        "    response = urllib.request.urlopen(req)\n",
        "\n",
        "    result = response.read()\n",
        "    print(result)\n",
        "except urllib.error.HTTPError as error:\n",
        "    print(\"The request failed with status code: \" + str(error.code))\n",
        "\n",
        "    # Print the headers - they include the requert ID and the timestamp, which are useful for debugging the failure\n",
        "    print(error.info())\n",
        "    print(json.loads(error.read().decode(\"utf8\", 'ignore')))\n",
        "```\n"
      ],
      "metadata": {
        "nteract": {
          "transient": {
            "deleting": false
          }
        }
      }
    },
    {
      "cell_type": "code",
      "source": [
        "import urllib.request\n",
        "import json\n",
        "import os\n",
        "import ssl\n",
        "\n",
        "def allowSelfSignedHttps(allowed):\n",
        "    # bypass the server certificate verification on client side\n",
        "    if allowed and not os.environ.get('PYTHONHTTPSVERIFY', '') and getattr(ssl, '_create_unverified_context', None):\n",
        "        ssl._create_default_https_context = ssl._create_unverified_context\n",
        "\n",
        "allowSelfSignedHttps(True) # this line is needed if you use self-signed certificate in your scoring service.\n",
        "\n",
        "data = {\n",
        "    \"Inputs\": {\n",
        "          \"WebServiceInput0\":\n",
        "          [\n",
        "              {\n",
        "                    'fixed acidity': \"7.4\",\n",
        "                    'volatile acidity': \"0.7\",\n",
        "                    'citric acid': \"0\",\n",
        "                    'residual sugar': \"1.9\",\n",
        "                    'chlorides': \"0.076\",\n",
        "                    'free sulfur dioxide': \"11\",\n",
        "                    'total sulfur dioxide': \"34\",\n",
        "                    'density': \"0.9978\",\n",
        "                    'pH': \"3.51\",\n",
        "                    'sulphates': \"0.56\",\n",
        "                    'alcohol': \"9.4\",\n",
        "                    'quality': \"5\",\n",
        "              },\n",
        "          ],\n",
        "    },\n",
        "    \"GlobalParameters\":  {\n",
        "    }\n",
        "}\n",
        "\n",
        "body = str.encode(json.dumps(data))\n",
        "\n",
        "url = 'http://20.71.42.4:80/api/v1/service/mlcluster/score'\n",
        "api_key = 'IUExmGMI0XHIj2w6qUimfXbcdPsAj31v'\n",
        "headers = {'Content-Type':'application/json', 'Authorization':('Bearer '+ api_key)}\n",
        "\n",
        "req = urllib.request.Request(url, body, headers)\n",
        "\n",
        "try:\n",
        "    response = urllib.request.urlopen(req)\n",
        "\n",
        "    result = response.read()\n",
        "    print(result)\n",
        "except urllib.error.HTTPError as error:\n",
        "    print(\"The request failed with status code: \" + str(error.code))\n",
        "\n",
        "    # Print the headers - they include the requert ID and the timestamp, which are useful for debugging the failure\n",
        "    print(error.info())\n",
        "    print(json.loads(error.read().decode(\"utf8\", 'ignore')))\n"
      ],
      "outputs": [
        {
          "output_type": "stream",
          "name": "stdout",
          "text": [
            "b'{\"Results\": {\"WebServiceOutput0\": [{\"fixed acidity\": 0.24778761061946908, \"volatile acidity\": 0.39726027397260266, \"citric acid\": 0.0, \"residual sugar\": 0.0684931506849315, \"chlorides\": 0.10684474123539231, \"free sulfur dioxide\": 0.14084507042253522, \"total sulfur dioxide\": 0.0989399293286219, \"density\": 0.567547723935391, \"pH\": 0.606299212598425, \"sulphates\": 0.13772455089820365, \"alcohol\": 0.15384615384615397, \"quality\": 5.0, \"Scored Labels\": 5.032535028532589}]}}'\n"
          ]
        }
      ],
      "execution_count": 147,
      "metadata": {
        "collapsed": true,
        "jupyter": {
          "source_hidden": false,
          "outputs_hidden": false
        },
        "nteract": {
          "transient": {
            "deleting": false
          }
        },
        "gather": {
          "logged": 1606592994618
        }
      }
    },
    {
      "cell_type": "markdown",
      "source": [
        "## Register model"
      ],
      "metadata": {
        "nteract": {
          "transient": {
            "deleting": false
          }
        }
      }
    },
    {
      "cell_type": "markdown",
      "source": [
        "Upload libraries and enter workspace. Upload dataset.\n",
        "```\n",
        "# Upload libraries\n",
        "\n",
        "from azureml.core import Workspace, Dataset\n",
        "from azureml.core.model import Model\n",
        "from azureml.core import Experiment\n",
        "from azureml.core import Run\n",
        "import pandas as pd\n",
        "\n",
        "# Workspace\n",
        "subscription_id = '31526bd3-bfec-4853-bd82-7d8a5ab50724'\n",
        "resource_group = 'RGBigDataSchool'\n",
        "workspace_name = 'MLsecond'\n",
        "\n",
        "workspace = Workspace(subscription_id, resource_group, workspace_name)\n",
        "\n",
        "#Upload dataset which had added recently(Red wine quality)\n",
        "dataset = Dataset.get_by_name(workspace, name='Trotsenko_wine')\n",
        "wine = dataset.to_pandas_dataframe()\n",
        "```"
      ],
      "metadata": {
        "nteract": {
          "transient": {
            "deleting": false
          }
        }
      }
    },
    {
      "cell_type": "code",
      "source": [
        "# Upload libraries\n",
        "\n",
        "from azureml.core import Workspace, Dataset\n",
        "from azureml.core.model import Model\n",
        "from azureml.core import Experiment\n",
        "from azureml.core import Run\n",
        "import pandas as pd\n",
        "\n",
        "# Workspace\n",
        "subscription_id = '31526bd3-bfec-4853-bd82-7d8a5ab50724'\n",
        "resource_group = 'RGBigDataSchool'\n",
        "workspace_name = 'MLsecond'\n",
        "\n",
        "workspace = Workspace(subscription_id, resource_group, workspace_name)\n",
        "\n",
        "#Upload dataset which had added recently(Red wine quality)\n",
        "dataset = Dataset.get_by_name(workspace, name='Trotsenko_wine')\n",
        "wine = dataset.to_pandas_dataframe()"
      ],
      "outputs": [],
      "execution_count": null,
      "metadata": {
        "collapsed": true,
        "jupyter": {
          "source_hidden": false,
          "outputs_hidden": false
        },
        "nteract": {
          "transient": {
            "deleting": false
          }
        }
      }
    },
    {
      "cell_type": "markdown",
      "source": [
        "Get experiment\n",
        "```\n",
        "experiment = Experiment(workspace=workspace, name=\"trotsenko-Wine-exp\")\n",
        "experiment\n",
        "```"
      ],
      "metadata": {
        "nteract": {
          "transient": {
            "deleting": false
          }
        }
      }
    },
    {
      "cell_type": "code",
      "source": [
        "experiment = Experiment(workspace=workspace, name=\"trotsenko-Wine-exp\")\n",
        "experiment"
      ],
      "outputs": [],
      "execution_count": null,
      "metadata": {
        "collapsed": true,
        "jupyter": {
          "source_hidden": false,
          "outputs_hidden": false
        },
        "nteract": {
          "transient": {
            "deleting": false
          }
        }
      }
    },
    {
      "cell_type": "markdown",
      "source": [
        "### Get run process with model trained data.\n",
        "```\n",
        "import os\n",
        "\n",
        "#Run with tuning feature - id Machine Learning Model\n",
        "run = Run(experiment=experiment, run_id=\"007e09ab-b368-4069-b6a8-11ed48bfd3b2\")\n",
        "run.get_file_names()\n",
        "model = run.register_model(model_name=\"trotsenkosdk\", model_path='trained_model_outputs')\n",
        "print(model)\n",
        "```"
      ],
      "metadata": {
        "nteract": {
          "transient": {
            "deleting": false
          }
        }
      }
    },
    {
      "cell_type": "code",
      "source": [
        "import os\n",
        "\n",
        "#Run with tuning feature - id Machine Learning Model\n",
        "run = Run(experiment=experiment, run_id=\"007e09ab-b368-4069-b6a8-11ed48bfd3b2\")\n",
        "run.get_file_names()\n",
        "model = run.register_model(model_name=\"trotsenkosdk\", model_path='trained_model_outputs')\n",
        "print(model)"
      ],
      "outputs": [
        {
          "output_type": "stream",
          "name": "stdout",
          "text": [
            "Model(workspace=Workspace.create(name='MLsecond', subscription_id='31526bd3-bfec-4853-bd82-7d8a5ab50724', resource_group='RGBigDataSchool'), name=trotsenkosdk, id=trotsenkosdk:4, version=4, tags={}, properties={})\n"
          ]
        }
      ],
      "execution_count": 160,
      "metadata": {
        "collapsed": true,
        "jupyter": {
          "source_hidden": false,
          "outputs_hidden": false
        },
        "nteract": {
          "transient": {
            "deleting": false
          }
        },
        "gather": {
          "logged": 1606596553498
        }
      }
    },
    {
      "cell_type": "markdown",
      "source": [
        "## Create config end enviroment\n",
        "```\n",
        "from azureml.core.environment import Environment\n",
        "from azureml.core.model import InferenceConfig\n",
        "from azureml.core.webservice import AciWebservice\n",
        "from azureml.core.webservice import LocalWebservice, Webservice\n",
        "\n",
        "#Get environment\n",
        "env = run.get_environment()\n",
        "for pip_package in [\"azureml-defaults\", \n",
        "    \"azureml-designer-classic-modules==0.0.141\",\n",
        "    \"azureml-designer-serving==0.0.10\"]:\n",
        "    env.python.conda_dependencies.add_pip_package(pip_package)\n",
        "\n",
        "#Inference config for deploy model\n",
        "inference_config = InferenceConfig(entry_script='trained_model_outputs/score.py',\n",
        "                                    environment=env)\n",
        "\n",
        "#Deployment config\n",
        "deployment_config = AciWebservice.deploy_configuration(cpu_cores = 1, memory_gb = 1)                             \n",
        "```"
      ],
      "metadata": {
        "nteract": {
          "transient": {
            "deleting": false
          }
        }
      }
    },
    {
      "cell_type": "code",
      "source": [
        "from azureml.core.environment import Environment\n",
        "from azureml.core.model import InferenceConfig\n",
        "from azureml.core.webservice import AciWebservice\n",
        "from azureml.core.webservice import LocalWebservice, Webservice\n",
        "\n",
        "#Get environment\n",
        "env = run.get_environment()\n",
        "for pip_package in [\"azureml-defaults\", \n",
        "    \"azureml-designer-classic-modules==0.0.141\",\n",
        "    \"azureml-designer-serving==0.0.10\"]:\n",
        "    env.python.conda_dependencies.add_pip_package(pip_package)\n",
        "\n",
        "#Inference config for deploy model\n",
        "inference_config = InferenceConfig(entry_script='trained_model_outputs/score.py',\n",
        "                                    environment=env)\n",
        "\n",
        "#Deployment config\n",
        "deployment_config = AciWebservice.deploy_configuration(cpu_cores = 1, memory_gb = 1)                             "
      ],
      "outputs": [],
      "execution_count": 161,
      "metadata": {
        "collapsed": true,
        "jupyter": {
          "source_hidden": false,
          "outputs_hidden": false
        },
        "nteract": {
          "transient": {
            "deleting": false
          }
        },
        "gather": {
          "logged": 1606596556368
        }
      }
    },
    {
      "cell_type": "markdown",
      "source": [
        "### Create service and delpoy model(Not successfull)\n",
        "```\n",
        "service = Model.deploy(workspace, \"trotsenkomlservice\", [model], inference_config, deployment_config)\n",
        "service.wait_for_deployment(show_output = True)\n",
        "print(service.state)\n",
        "```"
      ],
      "metadata": {
        "nteract": {
          "transient": {
            "deleting": false
          }
        }
      }
    },
    {
      "cell_type": "code",
      "source": [
        "service = Model.deploy(workspace, \"trotsenkomlservice\", [model], inference_config, deployment_config)\n",
        "service.wait_for_deployment(show_output = True)\n",
        "print(service.state)"
      ],
      "outputs": [
        {
          "output_type": "stream",
          "name": "stdout",
          "text": [
            "Tips: You can try get_logs(): https://aka.ms/debugimage#dockerlog or local deployment: https://aka.ms/debugimage#debug-locally to debug if deployment takes longer than 10 minutes.\n",
            "Running.............................\n",
            "Succeeded\n",
            "ACI service creation operation finished, operation \"Succeeded\"\n",
            "Healthy\n"
          ]
        }
      ],
      "execution_count": 162,
      "metadata": {
        "collapsed": true,
        "jupyter": {
          "source_hidden": false,
          "outputs_hidden": false
        },
        "nteract": {
          "transient": {
            "deleting": false
          }
        },
        "gather": {
          "logged": 1606596723059
        }
      }
    },
    {
      "cell_type": "markdown",
      "source": [
        "### Code for interact with REST-API\n",
        "```\n",
        "import urllib.request\n",
        "import json\n",
        "import os\n",
        "import ssl\n",
        "\n",
        "\n",
        "data = {\"data\": [\n",
        "  {\n",
        "    \"fixed acidity\": 0.35398230088495575,\n",
        "    \"volatile acidity\": 0.41438356164383555,\n",
        "    \"citric acid\": 0.24,\n",
        "    \"residual sugar\": 0.3904109589041096,\n",
        "    \"chlorides\": 0.17529215358931552,\n",
        "    \"free sulfur dioxide\": 0.4225352112676057,\n",
        "    \"total sulfur dioxide\": 0.45229681978798586,\n",
        "    \"density\": 0.831864904552134,\n",
        "    \"pH\": 0.4566929133858264,\n",
        "    \"sulphates\": 0.44311377245508987,\n",
        "    \"alcohol\": 0.13846153846153864,\n",
        "    \"quality\": 5.0\n",
        "  },\n",
        "  {\n",
        "    \"fixed acidity\": 0.2654867256637168,\n",
        "    \"volatile acidity\": 0.1643835616438356,\n",
        "    \"citric acid\": 0.31,\n",
        "    \"residual sugar\": 0.0547945205479452,\n",
        "    \"chlorides\": 0.11185308848080133,\n",
        "    \"free sulfur dioxide\": 0.35211267605633806,\n",
        "    \"total sulfur dioxide\": 0.20848056537102472,\n",
        "    \"density\": 0.5205580029368662,\n",
        "    \"pH\": 0.5669291338582676,\n",
        "    \"sulphates\": 0.17365269461077845,\n",
        "    \"alcohol\": 0.1692307692307693,\n",
        "    \"quality\": 6.0\n",
        "  },\n",
        "  {\n",
        "    \"fixed acidity\": 0.18584070796460184,\n",
        "    \"volatile acidity\": 0.2465753424657534,\n",
        "    \"citric acid\": 0.08,\n",
        "    \"residual sugar\": 0.0821917808219178,\n",
        "    \"chlorides\": 0.08681135225375626,\n",
        "    \"free sulfur dioxide\": 0.23943661971830985,\n",
        "    \"total sulfur dioxide\": 0.0989399293286219,\n",
        "    \"density\": 0.4001468428781294,\n",
        "    \"pH\": 0.46456692913385833,\n",
        "    \"sulphates\": 0.18562874251497005,\n",
        "    \"alcohol\": 0.19999999999999996,\n",
        "    \"quality\": 5.0\n",
        "  }\n",
        "]}\n",
        "\n",
        "\n",
        "\n",
        "body = str.encode(json.dumps(data))\n",
        "\n",
        "url = 'http://61d1ffd3-2ae5-4ab7-93b7-abcc67b6027e.westeurope.azurecontainer.io/score'\n",
        "headers = {'Content-Type':'application/json'}\n",
        "\n",
        "req = urllib.request.Request(url, body, headers)\n",
        "\n",
        "try:\n",
        "    response = urllib.request.urlopen(req)\n",
        "\n",
        "    result = response.read()\n",
        "    print(result)\n",
        "except urllib.error.HTTPError as error:\n",
        "    print(\"The request failed with status code: \" + str(error.code))\n",
        "\n",
        "    # Print the headers - they include the requert ID and the timestamp, which are useful for debugging the failure\n",
        "    print(error.info()) \n",
        "\n",
        "```"
      ],
      "metadata": {
        "nteract": {
          "transient": {
            "deleting": false
          }
        }
      }
    },
    {
      "cell_type": "code",
      "source": [
        "import urllib.request\n",
        "import json\n",
        "import os\n",
        "import ssl\n",
        "\n",
        "\n",
        "data = {\"data\": [\n",
        "  {\n",
        "    \"fixed acidity\": 0.35398230088495575,\n",
        "    \"volatile acidity\": 0.41438356164383555,\n",
        "    \"citric acid\": 0.24,\n",
        "    \"residual sugar\": 0.3904109589041096,\n",
        "    \"chlorides\": 0.17529215358931552,\n",
        "    \"free sulfur dioxide\": 0.4225352112676057,\n",
        "    \"total sulfur dioxide\": 0.45229681978798586,\n",
        "    \"density\": 0.831864904552134,\n",
        "    \"pH\": 0.4566929133858264,\n",
        "    \"sulphates\": 0.44311377245508987,\n",
        "    \"alcohol\": 0.13846153846153864,\n",
        "    \"quality\": 5.0\n",
        "  },\n",
        "  {\n",
        "    \"fixed acidity\": 0.2654867256637168,\n",
        "    \"volatile acidity\": 0.1643835616438356,\n",
        "    \"citric acid\": 0.31,\n",
        "    \"residual sugar\": 0.0547945205479452,\n",
        "    \"chlorides\": 0.11185308848080133,\n",
        "    \"free sulfur dioxide\": 0.35211267605633806,\n",
        "    \"total sulfur dioxide\": 0.20848056537102472,\n",
        "    \"density\": 0.5205580029368662,\n",
        "    \"pH\": 0.5669291338582676,\n",
        "    \"sulphates\": 0.17365269461077845,\n",
        "    \"alcohol\": 0.1692307692307693,\n",
        "    \"quality\": 6.0\n",
        "  },\n",
        "  {\n",
        "    \"fixed acidity\": 0.18584070796460184,\n",
        "    \"volatile acidity\": 0.2465753424657534,\n",
        "    \"citric acid\": 0.08,\n",
        "    \"residual sugar\": 0.0821917808219178,\n",
        "    \"chlorides\": 0.08681135225375626,\n",
        "    \"free sulfur dioxide\": 0.23943661971830985,\n",
        "    \"total sulfur dioxide\": 0.0989399293286219,\n",
        "    \"density\": 0.4001468428781294,\n",
        "    \"pH\": 0.46456692913385833,\n",
        "    \"sulphates\": 0.18562874251497005,\n",
        "    \"alcohol\": 0.19999999999999996,\n",
        "    \"quality\": 5.0\n",
        "  }\n",
        "]}\n",
        "\n",
        "\n",
        "\n",
        "body = str.encode(json.dumps(data))\n",
        "\n",
        "url = 'http://61d1ffd3-2ae5-4ab7-93b7-abcc67b6027e.westeurope.azurecontainer.io/score'\n",
        "headers = {'Content-Type':'application/json'}\n",
        "\n",
        "req = urllib.request.Request(url, body, headers)\n",
        "\n",
        "try:\n",
        "    response = urllib.request.urlopen(req)\n",
        "\n",
        "    result = response.read()\n",
        "    print(result)\n",
        "except urllib.error.HTTPError as error:\n",
        "    print(\"The request failed with status code: \" + str(error.code))\n",
        "\n",
        "    # Print the headers - they include the requert ID and the timestamp, which are useful for debugging the failure\n",
        "    print(error.info()) \n"
      ],
      "outputs": [
        {
          "output_type": "stream",
          "name": "stdout",
          "text": [
            "The request failed with status code: 502\n",
            "Content-Length: 37\n",
            "Content-Type: text/html; charset=utf-8\n",
            "Date: Sat, 28 Nov 2020 20:53:49 GMT\n",
            "Server: nginx/1.10.3 (Ubuntu)\n",
            "X-Ms-Request-Id: 9e618408-b56c-4f97-8ed8-07203cefcfa5\n",
            "X-Ms-Run-Function-Failed: True\n",
            "Connection: close\n",
            "\n",
            "\n"
          ]
        }
      ],
      "execution_count": 163,
      "metadata": {
        "collapsed": true,
        "jupyter": {
          "source_hidden": false,
          "outputs_hidden": false
        },
        "nteract": {
          "transient": {
            "deleting": false
          }
        },
        "gather": {
          "logged": 1606596829273
        }
      }
    },
    {
      "cell_type": "code",
      "source": [
        "!jupyter nbconvert ml.ipynb --no-input --to html"
      ],
      "outputs": [
        {
          "output_type": "stream",
          "name": "stdout",
          "text": [
            "[NbConvertApp] WARNING | Config option `kernel_spec_manager_class` not recognized by `NbConvertApp`.\n",
            "[NbConvertApp] Converting notebook ml.ipynb to html\n",
            "[NbConvertApp] Writing 582476 bytes to ml.html\n"
          ]
        }
      ],
      "execution_count": 165,
      "metadata": {
        "collapsed": true,
        "jupyter": {
          "source_hidden": false,
          "outputs_hidden": false
        },
        "nteract": {
          "transient": {
            "deleting": false
          }
        }
      }
    },
    {
      "cell_type": "code",
      "source": [],
      "outputs": [],
      "execution_count": null,
      "metadata": {
        "collapsed": true,
        "jupyter": {
          "source_hidden": false,
          "outputs_hidden": false
        },
        "nteract": {
          "transient": {
            "deleting": false
          }
        }
      }
    }
  ],
  "metadata": {
    "kernelspec": {
      "name": "python3-azureml",
      "language": "python",
      "display_name": "Python 3.6 - AzureML"
    },
    "language_info": {
      "name": "python",
      "version": "3.6.9",
      "mimetype": "text/x-python",
      "codemirror_mode": {
        "name": "ipython",
        "version": 3
      },
      "pygments_lexer": "ipython3",
      "nbconvert_exporter": "python",
      "file_extension": ".py"
    },
    "nteract": {
      "version": "nteract-front-end@1.0.0"
    },
    "kernel_info": {
      "name": "python3-azureml"
    }
  },
  "nbformat": 4,
  "nbformat_minor": 2
}